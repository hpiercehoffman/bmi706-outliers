{
 "cells": [
  {
   "cell_type": "code",
   "execution_count": 47,
   "id": "eaf0faf5",
   "metadata": {},
   "outputs": [],
   "source": [
    "import numpy as np\n",
    "import pandas as pd\n",
    "import altair as alt\n",
    "import streamlit\n",
    "import vega_datasets\n",
    "from glob import glob"
   ]
  },
  {
   "cell_type": "code",
   "execution_count": 55,
   "id": "e24ee407",
   "metadata": {},
   "outputs": [],
   "source": [
    "def read(fl):\n",
    "    to_remove = ['index', 'measure_id','measure_name', 'age_id', 'metric','measure_ID']\n",
    "    df = pd.read_csv(fl)\n",
    "    df = df.drop(columns = [col for col in df.columns if col in to_remove])\n",
    "    df['State'] = df.loc[0,'location_name']\n",
    "    return df"
   ]
  },
  {
   "cell_type": "code",
   "execution_count": 56,
   "id": "86b5e6f4",
   "metadata": {},
   "outputs": [],
   "source": [
    "def main():\n",
    "    fls = glob('data/states/*')\n",
    "    data_list = []\n",
    "    for fl in fls:\n",
    "        data_list.append(read(fl))\n",
    "    df_mort = pd.concat(data_list)\n",
    "    df_mort = df_mort.reset_index(drop=True)\n",
    "    return df_mort"
   ]
  },
  {
   "cell_type": "code",
   "execution_count": null,
   "id": "0ee7c158",
   "metadata": {},
   "outputs": [],
   "source": []
  },
  {
   "cell_type": "code",
   "execution_count": null,
   "id": "5988ff67",
   "metadata": {},
   "outputs": [],
   "source": [
    "from "
   ]
  }
 ],
 "metadata": {
  "kernelspec": {
   "display_name": "Python 3 (ipykernel)",
   "language": "python",
   "name": "python3"
  },
  "language_info": {
   "codemirror_mode": {
    "name": "ipython",
    "version": 3
   },
   "file_extension": ".py",
   "mimetype": "text/x-python",
   "name": "python",
   "nbconvert_exporter": "python",
   "pygments_lexer": "ipython3",
   "version": "3.9.12"
  }
 },
 "nbformat": 4,
 "nbformat_minor": 5
}
