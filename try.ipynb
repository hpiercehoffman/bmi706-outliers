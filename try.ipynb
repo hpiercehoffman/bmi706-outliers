{
 "cells": [
  {
   "cell_type": "code",
   "execution_count": null,
   "id": "5988ff67",
   "metadata": {},
   "outputs": [],
   "source": [
    "from process import *\n",
    "from vega_datasets import data\n",
    "\n",
    "states_data = read_states()\n",
    "states_data = states_data.dropna(subset=['FIPS'])\n",
    "states_data[\"id\"] = states_data[\"FIPS\"].astype(int)"
   ]
  },
  {
   "cell_type": "code",
   "execution_count": null,
   "id": "57b71cbb",
   "metadata": {},
   "outputs": [],
   "source": [
    "alc_df = states_data[states_data.cause_name == 'Alcohol use disorders']\n",
    "alc_df = alc_df[alc_df.sex == 'Both']\n",
    "alc_df = alc_df[alc_df['year_id'] == 1990]\n",
    "\n",
    "alc_df.to_csv('df.csv')"
   ]
  },
  {
   "cell_type": "code",
   "execution_count": null,
   "id": "4d6f5371",
   "metadata": {},
   "outputs": [],
   "source": [
    "counties = alt.topo_feature(data.us_10m.url, 'counties')\n",
    "source = alc_df\n",
    "\n",
    "alt.Chart(counties).mark_geoshape().encode(\n",
    "    color='mx:Q'\n",
    ").transform_lookup(\n",
    "    lookup='id',\n",
    "    from_=alt.LookupData(data=source, key='id', fields=['mx'])\n",
    ").project(\n",
    "    type='albersUsa'\n",
    ").properties(\n",
    "    width=500,\n",
    "    height=300\n",
    ")\n"
   ]
  },
  {
   "cell_type": "code",
   "execution_count": null,
   "id": "2ccf6ee1",
   "metadata": {},
   "outputs": [],
   "source": [
    "# Sources: https://altair-viz.github.io/gallery/choropleth.html"
   ]
  }
 ],
 "metadata": {
  "kernelspec": {
   "display_name": "Python 3 (ipykernel)",
   "language": "python",
   "name": "python3"
  },
  "language_info": {
   "codemirror_mode": {
    "name": "ipython",
    "version": 3
   },
   "file_extension": ".py",
   "mimetype": "text/x-python",
   "name": "python",
   "nbconvert_exporter": "python",
   "pygments_lexer": "ipython3",
   "version": "3.10.9"
  }
 },
 "nbformat": 4,
 "nbformat_minor": 5
}
